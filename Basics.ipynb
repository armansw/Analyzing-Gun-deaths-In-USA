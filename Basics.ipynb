{
 "cells": [
  {
   "cell_type": "code",
   "execution_count": null,
   "metadata": {
    "collapsed": false
   },
   "outputs": [],
   "source": [
    "import csv\n",
    "f = open(\"guns.csv\", \"r\")\n",
    "data = list(csv.reader(f))\n",
    "for i in range(5):\n",
    "    print(data[i])"
   ]
  },
  {
   "cell_type": "code",
   "execution_count": 3,
   "metadata": {
    "collapsed": false
   },
   "outputs": [
    {
     "name": "stdout",
     "output_type": "stream",
     "text": [
      "['', 'year', 'month', 'intent', 'police', 'sex', 'age', 'race', 'hispanic', 'place', 'education']\n",
      "['1', '2012', '01', 'Suicide', '0', 'M', '34', 'Asian/Pacific Islander', '100', 'Home', '4']\n",
      "['2', '2012', '01', 'Suicide', '0', 'F', '21', 'White', '100', 'Street', '3']\n",
      "['3', '2012', '01', 'Suicide', '0', 'M', '60', 'White', '100', 'Other specified', '4']\n",
      "['4', '2012', '02', 'Suicide', '0', 'M', '64', 'White', '100', 'Home', '4']\n",
      "['5', '2012', '02', 'Suicide', '0', 'M', '31', 'White', '100', 'Other specified', '2']\n"
     ]
    }
   ],
   "source": [
    "headers = data[0]\n",
    "data = data[1:]\n",
    "print(headers)\n",
    "for i in range(5):\n",
    "    print(data[i])"
   ]
  },
  {
   "cell_type": "code",
   "execution_count": null,
   "metadata": {
    "collapsed": false
   },
   "outputs": [],
   "source": [
    "years = [row[1] for row in data]\n",
    "\n",
    "year_counts = {}\n",
    "for year in years:\n",
    "    if year not in year_counts:\n",
    "        year_counts[year] = 1\n",
    "    else:  \n",
    "        year_counts[year] += 1\n",
    "\n",
    "year_counts"
   ]
  },
  {
   "cell_type": "code",
   "execution_count": null,
   "metadata": {
    "collapsed": false
   },
   "outputs": [],
   "source": [
    "import datetime\n",
    "dates = [datetime.datetime(year = int(row[1]), month = int(row[2]), day = 1) for row in data]\n",
    "                        \n",
    "    \n",
    "for i in range(5):\n",
    "    print(dates[i]) "
   ]
  },
  {
   "cell_type": "code",
   "execution_count": null,
   "metadata": {
    "collapsed": false
   },
   "outputs": [],
   "source": [
    "date_counts = {}\n",
    "for row in dates:\n",
    "    if row in date_counts:\n",
    "        date_counts[row] += 1\n",
    "    else:\n",
    "        date_counts[row] = 1\n",
    "        \n",
    "date_counts"
   ]
  },
  {
   "cell_type": "code",
   "execution_count": null,
   "metadata": {
    "collapsed": true
   },
   "outputs": [],
   "source": [
    "sexes = [row[5] for row in dat]\n",
    "sex_counts = {}\n",
    "for row in sexes:\n",
    "    if row in sex_counts:\n",
    "        sex_counts[row] += 1\n",
    "    else:\n",
    "        sex_counts[row] = 1\n",
    "        \n",
    "\n",
    "        \n",
    "sex_counts"
   ]
  },
  {
   "cell_type": "code",
   "execution_count": null,
   "metadata": {
    "collapsed": true
   },
   "outputs": [],
   "source": [
    "races = [row[7] for row in data]\n",
    "\n",
    "race_counts = {}\n",
    "\n",
    "\n",
    "for row in races:\n",
    "    if row in race_counts:\n",
    "        race_counts[row] += 1\n",
    "    else:\n",
    "        race_counts[row] = 1\n",
    "        \n",
    "print(race_counts)"
   ]
  },
  {
   "cell_type": "code",
   "execution_count": null,
   "metadata": {
    "collapsed": true
   },
   "outputs": [],
   "source": [
    "import csv\n",
    "\n",
    "with open(\"census.csv\", \"r\") as f:\n",
    "    reader = csv.reader(f)\n",
    "    census = list(reader)\n",
    "    \n",
    "census"
   ]
  },
  {
   "cell_type": "code",
   "execution_count": null,
   "metadata": {
    "collapsed": true
   },
   "outputs": [],
   "source": [
    "mapping = {\n",
    "    \"Asian/Pacific Islander\": 15159516 + 674625,\n",
    "    \"Native American/Native Alaskan\": 3739506,\n",
    "    \"Black\": 40250635,\n",
    "    \"Hispanic\": 44618105,\n",
    "    \"White\": 197318956\n",
    "}\n",
    "\n",
    "race_per_hundredk = {}\n",
    "for k,v in race_counts.items():\n",
    "    race_per_hundredk[k] = (v / mapping[k]) * 100000\n",
    "\n",
    "race_per_hundredk"
   ]
  },
  {
   "cell_type": "code",
   "execution_count": null,
   "metadata": {
    "collapsed": true
   },
   "outputs": [],
   "source": [
    "intents = [row[3] for row in data]\n",
    "homicide_race_counts = {}\n",
    "for i,race in enumerate(races):\n",
    "    if race not in homicide_race_counts:\n",
    "        homicide_race_counts[race] = 0\n",
    "    if intents[i] == \"Homicide\":\n",
    "        homicide_race_counts[race] += 1\n",
    "\n",
    "race_per_hundredk = {}\n",
    "for k,v in homicide_race_counts.items():\n",
    "    race_per_hundredk[k] = (v / mapping[k]) * 100000\n",
    "\n",
    "race_per_hundredk"
   ]
  },
  {
   "cell_type": "code",
   "execution_count": null,
   "metadata": {
    "collapsed": true
   },
   "outputs": [],
   "source": []
  }
 ],
 "metadata": {
  "kernelspec": {
   "display_name": "Python 3",
   "language": "python",
   "name": "python3"
  },
  "language_info": {
   "codemirror_mode": {
    "name": "ipython",
    "version": 3
   },
   "file_extension": ".py",
   "mimetype": "text/x-python",
   "name": "python",
   "nbconvert_exporter": "python",
   "pygments_lexer": "ipython3",
   "version": "3.4.3"
  }
 },
 "nbformat": 4,
 "nbformat_minor": 0
}
